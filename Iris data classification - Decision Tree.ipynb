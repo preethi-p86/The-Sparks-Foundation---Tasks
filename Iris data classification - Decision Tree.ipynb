{
 "cells": [
  {
   "cell_type": "markdown",
   "metadata": {},
   "source": [
    "### THE SPARKS FOUNDATION - TASKS"
   ]
  },
  {
   "cell_type": "markdown",
   "metadata": {},
   "source": [
    "#### PREDICITION USING DECISION TREE CLASSIFIER ( LEVEL INTERMEDIATE) - IRIS DATASET"
   ]
  },
  {
   "cell_type": "markdown",
   "metadata": {},
   "source": [
    "**AUTHOR : PREETHI P**"
   ]
  },
  {
   "cell_type": "code",
   "execution_count": 29,
   "metadata": {},
   "outputs": [],
   "source": [
    "## IMPORTING THE REQUIRED LIBRARIES\n",
    "\n",
    "import pandas as pd\n",
    "import numpy as np\n",
    "import matplotlib.pyplot as plt\n",
    "import seaborn as sns\n",
    "from sklearn.model_selection import train_test_split \n",
    "from sklearn.metrics import accuracy_score, precision_score, recall_score"
   ]
  },
  {
   "cell_type": "code",
   "execution_count": 30,
   "metadata": {},
   "outputs": [],
   "source": [
    "from sklearn.tree import DecisionTreeClassifier\n",
    "import plotly.express as px"
   ]
  },
  {
   "cell_type": "code",
   "execution_count": 31,
   "metadata": {},
   "outputs": [],
   "source": [
    "## READING THE DATA:\n",
    "\n",
    "data=pd.read_csv(\"Iris.csv\")"
   ]
  },
  {
   "cell_type": "code",
   "execution_count": 32,
   "metadata": {},
   "outputs": [
    {
     "name": "stdout",
     "output_type": "stream",
     "text": [
      "   Id  SepalLengthCm  SepalWidthCm  PetalLengthCm  PetalWidthCm      Species\n",
      "0   1            5.1           3.5            1.4           0.2  Iris-setosa\n",
      "1   2            4.9           3.0            1.4           0.2  Iris-setosa\n",
      "2   3            4.7           3.2            1.3           0.2  Iris-setosa\n",
      "3   4            4.6           3.1            1.5           0.2  Iris-setosa\n",
      "4   5            5.0           3.6            1.4           0.2  Iris-setosa\n",
      "5   6            5.4           3.9            1.7           0.4  Iris-setosa\n",
      "6   7            4.6           3.4            1.4           0.3  Iris-setosa\n",
      "7   8            5.0           3.4            1.5           0.2  Iris-setosa\n",
      "8   9            4.4           2.9            1.4           0.2  Iris-setosa\n",
      "9  10            4.9           3.1            1.5           0.1  Iris-setosa\n"
     ]
    }
   ],
   "source": [
    "## To view the data\n",
    "print(data.head(10))"
   ]
  },
  {
   "cell_type": "code",
   "execution_count": 33,
   "metadata": {},
   "outputs": [],
   "source": [
    "data=data.drop(['Id'],axis=1)"
   ]
  },
  {
   "cell_type": "code",
   "execution_count": 34,
   "metadata": {},
   "outputs": [
    {
     "data": {
      "text/plain": [
       "Index(['SepalLengthCm', 'SepalWidthCm', 'PetalLengthCm', 'PetalWidthCm',\n",
       "       'Species'],\n",
       "      dtype='object')"
      ]
     },
     "execution_count": 34,
     "metadata": {},
     "output_type": "execute_result"
    }
   ],
   "source": [
    "data.columns"
   ]
  },
  {
   "cell_type": "code",
   "execution_count": 35,
   "metadata": {},
   "outputs": [
    {
     "data": {
      "text/plain": [
       "(150, 5)"
      ]
     },
     "execution_count": 35,
     "metadata": {},
     "output_type": "execute_result"
    }
   ],
   "source": [
    "## To know the shape of the data:\n",
    "\n",
    "data.shape"
   ]
  },
  {
   "cell_type": "markdown",
   "metadata": {},
   "source": [
    "##### There 150 rows and 5 columns in the dataset"
   ]
  },
  {
   "cell_type": "code",
   "execution_count": 36,
   "metadata": {},
   "outputs": [
    {
     "name": "stdout",
     "output_type": "stream",
     "text": [
      "<class 'pandas.core.frame.DataFrame'>\n",
      "RangeIndex: 150 entries, 0 to 149\n",
      "Data columns (total 5 columns):\n",
      " #   Column         Non-Null Count  Dtype  \n",
      "---  ------         --------------  -----  \n",
      " 0   SepalLengthCm  150 non-null    float64\n",
      " 1   SepalWidthCm   150 non-null    float64\n",
      " 2   PetalLengthCm  150 non-null    float64\n",
      " 3   PetalWidthCm   150 non-null    float64\n",
      " 4   Species        150 non-null    object \n",
      "dtypes: float64(4), object(1)\n",
      "memory usage: 5.3+ KB\n"
     ]
    }
   ],
   "source": [
    "## To know the datatypes of the columns :\n",
    "\n",
    "data.info()"
   ]
  },
  {
   "cell_type": "code",
   "execution_count": 37,
   "metadata": {},
   "outputs": [
    {
     "data": {
      "text/plain": [
       "array(['Iris-setosa', 'Iris-versicolor', 'Iris-virginica'], dtype=object)"
      ]
     },
     "execution_count": 37,
     "metadata": {},
     "output_type": "execute_result"
    }
   ],
   "source": [
    "data['Species'].unique()"
   ]
  },
  {
   "cell_type": "code",
   "execution_count": 38,
   "metadata": {},
   "outputs": [],
   "source": [
    "##### The target variable is object variable..So we need to convert it to Numerical variable.\n",
    "\n",
    "data=data.replace({'Species':{'Iris-setosa':0,'Iris-versicolor':1,'Iris-virginica':2}})"
   ]
  },
  {
   "cell_type": "code",
   "execution_count": 39,
   "metadata": {},
   "outputs": [
    {
     "data": {
      "text/plain": [
       "SepalLengthCm    0\n",
       "SepalWidthCm     0\n",
       "PetalLengthCm    0\n",
       "PetalWidthCm     0\n",
       "Species          0\n",
       "dtype: int64"
      ]
     },
     "execution_count": 39,
     "metadata": {},
     "output_type": "execute_result"
    }
   ],
   "source": [
    "data.isna().sum()"
   ]
  },
  {
   "cell_type": "markdown",
   "metadata": {},
   "source": [
    "There is no \"Null Values\" in the dataset."
   ]
  },
  {
   "cell_type": "code",
   "execution_count": 40,
   "metadata": {},
   "outputs": [
    {
     "data": {
      "text/html": [
       "<div>\n",
       "<style scoped>\n",
       "    .dataframe tbody tr th:only-of-type {\n",
       "        vertical-align: middle;\n",
       "    }\n",
       "\n",
       "    .dataframe tbody tr th {\n",
       "        vertical-align: top;\n",
       "    }\n",
       "\n",
       "    .dataframe thead th {\n",
       "        text-align: right;\n",
       "    }\n",
       "</style>\n",
       "<table border=\"1\" class=\"dataframe\">\n",
       "  <thead>\n",
       "    <tr style=\"text-align: right;\">\n",
       "      <th></th>\n",
       "      <th>SepalLengthCm</th>\n",
       "      <th>SepalWidthCm</th>\n",
       "      <th>PetalLengthCm</th>\n",
       "      <th>PetalWidthCm</th>\n",
       "      <th>Species</th>\n",
       "    </tr>\n",
       "  </thead>\n",
       "  <tbody>\n",
       "    <tr>\n",
       "      <th>0</th>\n",
       "      <td>5.1</td>\n",
       "      <td>3.5</td>\n",
       "      <td>1.4</td>\n",
       "      <td>0.2</td>\n",
       "      <td>0</td>\n",
       "    </tr>\n",
       "    <tr>\n",
       "      <th>1</th>\n",
       "      <td>4.9</td>\n",
       "      <td>3.0</td>\n",
       "      <td>1.4</td>\n",
       "      <td>0.2</td>\n",
       "      <td>0</td>\n",
       "    </tr>\n",
       "    <tr>\n",
       "      <th>2</th>\n",
       "      <td>4.7</td>\n",
       "      <td>3.2</td>\n",
       "      <td>1.3</td>\n",
       "      <td>0.2</td>\n",
       "      <td>0</td>\n",
       "    </tr>\n",
       "    <tr>\n",
       "      <th>3</th>\n",
       "      <td>4.6</td>\n",
       "      <td>3.1</td>\n",
       "      <td>1.5</td>\n",
       "      <td>0.2</td>\n",
       "      <td>0</td>\n",
       "    </tr>\n",
       "    <tr>\n",
       "      <th>4</th>\n",
       "      <td>5.0</td>\n",
       "      <td>3.6</td>\n",
       "      <td>1.4</td>\n",
       "      <td>0.2</td>\n",
       "      <td>0</td>\n",
       "    </tr>\n",
       "  </tbody>\n",
       "</table>\n",
       "</div>"
      ],
      "text/plain": [
       "   SepalLengthCm  SepalWidthCm  PetalLengthCm  PetalWidthCm  Species\n",
       "0            5.1           3.5            1.4           0.2        0\n",
       "1            4.9           3.0            1.4           0.2        0\n",
       "2            4.7           3.2            1.3           0.2        0\n",
       "3            4.6           3.1            1.5           0.2        0\n",
       "4            5.0           3.6            1.4           0.2        0"
      ]
     },
     "execution_count": 40,
     "metadata": {},
     "output_type": "execute_result"
    }
   ],
   "source": [
    "data.head()"
   ]
  },
  {
   "cell_type": "code",
   "execution_count": 41,
   "metadata": {},
   "outputs": [],
   "source": [
    "### To check for the outliers in the dataset"
   ]
  },
  {
   "cell_type": "code",
   "execution_count": 42,
   "metadata": {},
   "outputs": [],
   "source": [
    "f = [data.columns]\n",
    "f = ['SepalLengthCm', 'SepalWidthCm', 'PetalLengthCm', 'PetalWidthCm']"
   ]
  },
  {
   "cell_type": "code",
   "execution_count": 43,
   "metadata": {},
   "outputs": [
    {
     "data": {
      "application/vnd.plotly.v1+json": {
       "config": {
        "plotlyServerURL": "https://plot.ly"
       },
       "data": [
        {
         "alignmentgroup": "True",
         "hovertemplate": "variable=%{x}<br>value=%{y}<extra></extra>",
         "legendgroup": "",
         "marker": {
          "color": "#636efa"
         },
         "name": "",
         "notched": false,
         "offsetgroup": "",
         "orientation": "v",
         "showlegend": false,
         "type": "box",
         "x": [
          "SepalLengthCm",
          "SepalLengthCm",
          "SepalLengthCm",
          "SepalLengthCm",
          "SepalLengthCm",
          "SepalLengthCm",
          "SepalLengthCm",
          "SepalLengthCm",
          "SepalLengthCm",
          "SepalLengthCm",
          "SepalLengthCm",
          "SepalLengthCm",
          "SepalLengthCm",
          "SepalLengthCm",
          "SepalLengthCm",
          "SepalLengthCm",
          "SepalLengthCm",
          "SepalLengthCm",
          "SepalLengthCm",
          "SepalLengthCm",
          "SepalLengthCm",
          "SepalLengthCm",
          "SepalLengthCm",
          "SepalLengthCm",
          "SepalLengthCm",
          "SepalLengthCm",
          "SepalLengthCm",
          "SepalLengthCm",
          "SepalLengthCm",
          "SepalLengthCm",
          "SepalLengthCm",
          "SepalLengthCm",
          "SepalLengthCm",
          "SepalLengthCm",
          "SepalLengthCm",
          "SepalLengthCm",
          "SepalLengthCm",
          "SepalLengthCm",
          "SepalLengthCm",
          "SepalLengthCm",
          "SepalLengthCm",
          "SepalLengthCm",
          "SepalLengthCm",
          "SepalLengthCm",
          "SepalLengthCm",
          "SepalLengthCm",
          "SepalLengthCm",
          "SepalLengthCm",
          "SepalLengthCm",
          "SepalLengthCm",
          "SepalLengthCm",
          "SepalLengthCm",
          "SepalLengthCm",
          "SepalLengthCm",
          "SepalLengthCm",
          "SepalLengthCm",
          "SepalLengthCm",
          "SepalLengthCm",
          "SepalLengthCm",
          "SepalLengthCm",
          "SepalLengthCm",
          "SepalLengthCm",
          "SepalLengthCm",
          "SepalLengthCm",
          "SepalLengthCm",
          "SepalLengthCm",
          "SepalLengthCm",
          "SepalLengthCm",
          "SepalLengthCm",
          "SepalLengthCm",
          "SepalLengthCm",
          "SepalLengthCm",
          "SepalLengthCm",
          "SepalLengthCm",
          "SepalLengthCm",
          "SepalLengthCm",
          "SepalLengthCm",
          "SepalLengthCm",
          "SepalLengthCm",
          "SepalLengthCm",
          "SepalLengthCm",
          "SepalLengthCm",
          "SepalLengthCm",
          "SepalLengthCm",
          "SepalLengthCm",
          "SepalLengthCm",
          "SepalLengthCm",
          "SepalLengthCm",
          "SepalLengthCm",
          "SepalLengthCm",
          "SepalLengthCm",
          "SepalLengthCm",
          "SepalLengthCm",
          "SepalLengthCm",
          "SepalLengthCm",
          "SepalLengthCm",
          "SepalLengthCm",
          "SepalLengthCm",
          "SepalLengthCm",
          "SepalLengthCm",
          "SepalLengthCm",
          "SepalLengthCm",
          "SepalLengthCm",
          "SepalLengthCm",
          "SepalLengthCm",
          "SepalLengthCm",
          "SepalLengthCm",
          "SepalLengthCm",
          "SepalLengthCm",
          "SepalLengthCm",
          "SepalLengthCm",
          "SepalLengthCm",
          "SepalLengthCm",
          "SepalLengthCm",
          "SepalLengthCm",
          "SepalLengthCm",
          "SepalLengthCm",
          "SepalLengthCm",
          "SepalLengthCm",
          "SepalLengthCm",
          "SepalLengthCm",
          "SepalLengthCm",
          "SepalLengthCm",
          "SepalLengthCm",
          "SepalLengthCm",
          "SepalLengthCm",
          "SepalLengthCm",
          "SepalLengthCm",
          "SepalLengthCm",
          "SepalLengthCm",
          "SepalLengthCm",
          "SepalLengthCm",
          "SepalLengthCm",
          "SepalLengthCm",
          "SepalLengthCm",
          "SepalLengthCm",
          "SepalLengthCm",
          "SepalLengthCm",
          "SepalLengthCm",
          "SepalLengthCm",
          "SepalLengthCm",
          "SepalLengthCm",
          "SepalLengthCm",
          "SepalLengthCm",
          "SepalLengthCm",
          "SepalLengthCm",
          "SepalLengthCm",
          "SepalLengthCm",
          "SepalLengthCm",
          "SepalLengthCm",
          "SepalWidthCm",
          "SepalWidthCm",
          "SepalWidthCm",
          "SepalWidthCm",
          "SepalWidthCm",
          "SepalWidthCm",
          "SepalWidthCm",
          "SepalWidthCm",
          "SepalWidthCm",
          "SepalWidthCm",
          "SepalWidthCm",
          "SepalWidthCm",
          "SepalWidthCm",
          "SepalWidthCm",
          "SepalWidthCm",
          "SepalWidthCm",
          "SepalWidthCm",
          "SepalWidthCm",
          "SepalWidthCm",
          "SepalWidthCm",
          "SepalWidthCm",
          "SepalWidthCm",
          "SepalWidthCm",
          "SepalWidthCm",
          "SepalWidthCm",
          "SepalWidthCm",
          "SepalWidthCm",
          "SepalWidthCm",
          "SepalWidthCm",
          "SepalWidthCm",
          "SepalWidthCm",
          "SepalWidthCm",
          "SepalWidthCm",
          "SepalWidthCm",
          "SepalWidthCm",
          "SepalWidthCm",
          "SepalWidthCm",
          "SepalWidthCm",
          "SepalWidthCm",
          "SepalWidthCm",
          "SepalWidthCm",
          "SepalWidthCm",
          "SepalWidthCm",
          "SepalWidthCm",
          "SepalWidthCm",
          "SepalWidthCm",
          "SepalWidthCm",
          "SepalWidthCm",
          "SepalWidthCm",
          "SepalWidthCm",
          "SepalWidthCm",
          "SepalWidthCm",
          "SepalWidthCm",
          "SepalWidthCm",
          "SepalWidthCm",
          "SepalWidthCm",
          "SepalWidthCm",
          "SepalWidthCm",
          "SepalWidthCm",
          "SepalWidthCm",
          "SepalWidthCm",
          "SepalWidthCm",
          "SepalWidthCm",
          "SepalWidthCm",
          "SepalWidthCm",
          "SepalWidthCm",
          "SepalWidthCm",
          "SepalWidthCm",
          "SepalWidthCm",
          "SepalWidthCm",
          "SepalWidthCm",
          "SepalWidthCm",
          "SepalWidthCm",
          "SepalWidthCm",
          "SepalWidthCm",
          "SepalWidthCm",
          "SepalWidthCm",
          "SepalWidthCm",
          "SepalWidthCm",
          "SepalWidthCm",
          "SepalWidthCm",
          "SepalWidthCm",
          "SepalWidthCm",
          "SepalWidthCm",
          "SepalWidthCm",
          "SepalWidthCm",
          "SepalWidthCm",
          "SepalWidthCm",
          "SepalWidthCm",
          "SepalWidthCm",
          "SepalWidthCm",
          "SepalWidthCm",
          "SepalWidthCm",
          "SepalWidthCm",
          "SepalWidthCm",
          "SepalWidthCm",
          "SepalWidthCm",
          "SepalWidthCm",
          "SepalWidthCm",
          "SepalWidthCm",
          "SepalWidthCm",
          "SepalWidthCm",
          "SepalWidthCm",
          "SepalWidthCm",
          "SepalWidthCm",
          "SepalWidthCm",
          "SepalWidthCm",
          "SepalWidthCm",
          "SepalWidthCm",
          "SepalWidthCm",
          "SepalWidthCm",
          "SepalWidthCm",
          "SepalWidthCm",
          "SepalWidthCm",
          "SepalWidthCm",
          "SepalWidthCm",
          "SepalWidthCm",
          "SepalWidthCm",
          "SepalWidthCm",
          "SepalWidthCm",
          "SepalWidthCm",
          "SepalWidthCm",
          "SepalWidthCm",
          "SepalWidthCm",
          "SepalWidthCm",
          "SepalWidthCm",
          "SepalWidthCm",
          "SepalWidthCm",
          "SepalWidthCm",
          "SepalWidthCm",
          "SepalWidthCm",
          "SepalWidthCm",
          "SepalWidthCm",
          "SepalWidthCm",
          "SepalWidthCm",
          "SepalWidthCm",
          "SepalWidthCm",
          "SepalWidthCm",
          "SepalWidthCm",
          "SepalWidthCm",
          "SepalWidthCm",
          "SepalWidthCm",
          "SepalWidthCm",
          "SepalWidthCm",
          "SepalWidthCm",
          "SepalWidthCm",
          "SepalWidthCm",
          "SepalWidthCm",
          "SepalWidthCm",
          "SepalWidthCm",
          "PetalLengthCm",
          "PetalLengthCm",
          "PetalLengthCm",
          "PetalLengthCm",
          "PetalLengthCm",
          "PetalLengthCm",
          "PetalLengthCm",
          "PetalLengthCm",
          "PetalLengthCm",
          "PetalLengthCm",
          "PetalLengthCm",
          "PetalLengthCm",
          "PetalLengthCm",
          "PetalLengthCm",
          "PetalLengthCm",
          "PetalLengthCm",
          "PetalLengthCm",
          "PetalLengthCm",
          "PetalLengthCm",
          "PetalLengthCm",
          "PetalLengthCm",
          "PetalLengthCm",
          "PetalLengthCm",
          "PetalLengthCm",
          "PetalLengthCm",
          "PetalLengthCm",
          "PetalLengthCm",
          "PetalLengthCm",
          "PetalLengthCm",
          "PetalLengthCm",
          "PetalLengthCm",
          "PetalLengthCm",
          "PetalLengthCm",
          "PetalLengthCm",
          "PetalLengthCm",
          "PetalLengthCm",
          "PetalLengthCm",
          "PetalLengthCm",
          "PetalLengthCm",
          "PetalLengthCm",
          "PetalLengthCm",
          "PetalLengthCm",
          "PetalLengthCm",
          "PetalLengthCm",
          "PetalLengthCm",
          "PetalLengthCm",
          "PetalLengthCm",
          "PetalLengthCm",
          "PetalLengthCm",
          "PetalLengthCm",
          "PetalLengthCm",
          "PetalLengthCm",
          "PetalLengthCm",
          "PetalLengthCm",
          "PetalLengthCm",
          "PetalLengthCm",
          "PetalLengthCm",
          "PetalLengthCm",
          "PetalLengthCm",
          "PetalLengthCm",
          "PetalLengthCm",
          "PetalLengthCm",
          "PetalLengthCm",
          "PetalLengthCm",
          "PetalLengthCm",
          "PetalLengthCm",
          "PetalLengthCm",
          "PetalLengthCm",
          "PetalLengthCm",
          "PetalLengthCm",
          "PetalLengthCm",
          "PetalLengthCm",
          "PetalLengthCm",
          "PetalLengthCm",
          "PetalLengthCm",
          "PetalLengthCm",
          "PetalLengthCm",
          "PetalLengthCm",
          "PetalLengthCm",
          "PetalLengthCm",
          "PetalLengthCm",
          "PetalLengthCm",
          "PetalLengthCm",
          "PetalLengthCm",
          "PetalLengthCm",
          "PetalLengthCm",
          "PetalLengthCm",
          "PetalLengthCm",
          "PetalLengthCm",
          "PetalLengthCm",
          "PetalLengthCm",
          "PetalLengthCm",
          "PetalLengthCm",
          "PetalLengthCm",
          "PetalLengthCm",
          "PetalLengthCm",
          "PetalLengthCm",
          "PetalLengthCm",
          "PetalLengthCm",
          "PetalLengthCm",
          "PetalLengthCm",
          "PetalLengthCm",
          "PetalLengthCm",
          "PetalLengthCm",
          "PetalLengthCm",
          "PetalLengthCm",
          "PetalLengthCm",
          "PetalLengthCm",
          "PetalLengthCm",
          "PetalLengthCm",
          "PetalLengthCm",
          "PetalLengthCm",
          "PetalLengthCm",
          "PetalLengthCm",
          "PetalLengthCm",
          "PetalLengthCm",
          "PetalLengthCm",
          "PetalLengthCm",
          "PetalLengthCm",
          "PetalLengthCm",
          "PetalLengthCm",
          "PetalLengthCm",
          "PetalLengthCm",
          "PetalLengthCm",
          "PetalLengthCm",
          "PetalLengthCm",
          "PetalLengthCm",
          "PetalLengthCm",
          "PetalLengthCm",
          "PetalLengthCm",
          "PetalLengthCm",
          "PetalLengthCm",
          "PetalLengthCm",
          "PetalLengthCm",
          "PetalLengthCm",
          "PetalLengthCm",
          "PetalLengthCm",
          "PetalLengthCm",
          "PetalLengthCm",
          "PetalLengthCm",
          "PetalLengthCm",
          "PetalLengthCm",
          "PetalLengthCm",
          "PetalLengthCm",
          "PetalLengthCm",
          "PetalLengthCm",
          "PetalLengthCm",
          "PetalLengthCm",
          "PetalLengthCm",
          "PetalLengthCm",
          "PetalWidthCm",
          "PetalWidthCm",
          "PetalWidthCm",
          "PetalWidthCm",
          "PetalWidthCm",
          "PetalWidthCm",
          "PetalWidthCm",
          "PetalWidthCm",
          "PetalWidthCm",
          "PetalWidthCm",
          "PetalWidthCm",
          "PetalWidthCm",
          "PetalWidthCm",
          "PetalWidthCm",
          "PetalWidthCm",
          "PetalWidthCm",
          "PetalWidthCm",
          "PetalWidthCm",
          "PetalWidthCm",
          "PetalWidthCm",
          "PetalWidthCm",
          "PetalWidthCm",
          "PetalWidthCm",
          "PetalWidthCm",
          "PetalWidthCm",
          "PetalWidthCm",
          "PetalWidthCm",
          "PetalWidthCm",
          "PetalWidthCm",
          "PetalWidthCm",
          "PetalWidthCm",
          "PetalWidthCm",
          "PetalWidthCm",
          "PetalWidthCm",
          "PetalWidthCm",
          "PetalWidthCm",
          "PetalWidthCm",
          "PetalWidthCm",
          "PetalWidthCm",
          "PetalWidthCm",
          "PetalWidthCm",
          "PetalWidthCm",
          "PetalWidthCm",
          "PetalWidthCm",
          "PetalWidthCm",
          "PetalWidthCm",
          "PetalWidthCm",
          "PetalWidthCm",
          "PetalWidthCm",
          "PetalWidthCm",
          "PetalWidthCm",
          "PetalWidthCm",
          "PetalWidthCm",
          "PetalWidthCm",
          "PetalWidthCm",
          "PetalWidthCm",
          "PetalWidthCm",
          "PetalWidthCm",
          "PetalWidthCm",
          "PetalWidthCm",
          "PetalWidthCm",
          "PetalWidthCm",
          "PetalWidthCm",
          "PetalWidthCm",
          "PetalWidthCm",
          "PetalWidthCm",
          "PetalWidthCm",
          "PetalWidthCm",
          "PetalWidthCm",
          "PetalWidthCm",
          "PetalWidthCm",
          "PetalWidthCm",
          "PetalWidthCm",
          "PetalWidthCm",
          "PetalWidthCm",
          "PetalWidthCm",
          "PetalWidthCm",
          "PetalWidthCm",
          "PetalWidthCm",
          "PetalWidthCm",
          "PetalWidthCm",
          "PetalWidthCm",
          "PetalWidthCm",
          "PetalWidthCm",
          "PetalWidthCm",
          "PetalWidthCm",
          "PetalWidthCm",
          "PetalWidthCm",
          "PetalWidthCm",
          "PetalWidthCm",
          "PetalWidthCm",
          "PetalWidthCm",
          "PetalWidthCm",
          "PetalWidthCm",
          "PetalWidthCm",
          "PetalWidthCm",
          "PetalWidthCm",
          "PetalWidthCm",
          "PetalWidthCm",
          "PetalWidthCm",
          "PetalWidthCm",
          "PetalWidthCm",
          "PetalWidthCm",
          "PetalWidthCm",
          "PetalWidthCm",
          "PetalWidthCm",
          "PetalWidthCm",
          "PetalWidthCm",
          "PetalWidthCm",
          "PetalWidthCm",
          "PetalWidthCm",
          "PetalWidthCm",
          "PetalWidthCm",
          "PetalWidthCm",
          "PetalWidthCm",
          "PetalWidthCm",
          "PetalWidthCm",
          "PetalWidthCm",
          "PetalWidthCm",
          "PetalWidthCm",
          "PetalWidthCm",
          "PetalWidthCm",
          "PetalWidthCm",
          "PetalWidthCm",
          "PetalWidthCm",
          "PetalWidthCm",
          "PetalWidthCm",
          "PetalWidthCm",
          "PetalWidthCm",
          "PetalWidthCm",
          "PetalWidthCm",
          "PetalWidthCm",
          "PetalWidthCm",
          "PetalWidthCm",
          "PetalWidthCm",
          "PetalWidthCm",
          "PetalWidthCm",
          "PetalWidthCm",
          "PetalWidthCm",
          "PetalWidthCm",
          "PetalWidthCm",
          "PetalWidthCm",
          "PetalWidthCm",
          "PetalWidthCm",
          "PetalWidthCm",
          "PetalWidthCm",
          "PetalWidthCm",
          "PetalWidthCm",
          "PetalWidthCm",
          "PetalWidthCm"
         ],
         "x0": " ",
         "xaxis": "x",
         "y": [
          5.1,
          4.9,
          4.7,
          4.6,
          5,
          5.4,
          4.6,
          5,
          4.4,
          4.9,
          5.4,
          4.8,
          4.8,
          4.3,
          5.8,
          5.7,
          5.4,
          5.1,
          5.7,
          5.1,
          5.4,
          5.1,
          4.6,
          5.1,
          4.8,
          5,
          5,
          5.2,
          5.2,
          4.7,
          4.8,
          5.4,
          5.2,
          5.5,
          4.9,
          5,
          5.5,
          4.9,
          4.4,
          5.1,
          5,
          4.5,
          4.4,
          5,
          5.1,
          4.8,
          5.1,
          4.6,
          5.3,
          5,
          7,
          6.4,
          6.9,
          5.5,
          6.5,
          5.7,
          6.3,
          4.9,
          6.6,
          5.2,
          5,
          5.9,
          6,
          6.1,
          5.6,
          6.7,
          5.6,
          5.8,
          6.2,
          5.6,
          5.9,
          6.1,
          6.3,
          6.1,
          6.4,
          6.6,
          6.8,
          6.7,
          6,
          5.7,
          5.5,
          5.5,
          5.8,
          6,
          5.4,
          6,
          6.7,
          6.3,
          5.6,
          5.5,
          5.5,
          6.1,
          5.8,
          5,
          5.6,
          5.7,
          5.7,
          6.2,
          5.1,
          5.7,
          6.3,
          5.8,
          7.1,
          6.3,
          6.5,
          7.6,
          4.9,
          7.3,
          6.7,
          7.2,
          6.5,
          6.4,
          6.8,
          5.7,
          5.8,
          6.4,
          6.5,
          7.7,
          7.7,
          6,
          6.9,
          5.6,
          7.7,
          6.3,
          6.7,
          7.2,
          6.2,
          6.1,
          6.4,
          7.2,
          7.4,
          7.9,
          6.4,
          6.3,
          6.1,
          7.7,
          6.3,
          6.4,
          6,
          6.9,
          6.7,
          6.9,
          5.8,
          6.8,
          6.7,
          6.7,
          6.3,
          6.5,
          6.2,
          5.9,
          3.5,
          3,
          3.2,
          3.1,
          3.6,
          3.9,
          3.4,
          3.4,
          2.9,
          3.1,
          3.7,
          3.4,
          3,
          3,
          4,
          4.4,
          3.9,
          3.5,
          3.8,
          3.8,
          3.4,
          3.7,
          3.6,
          3.3,
          3.4,
          3,
          3.4,
          3.5,
          3.4,
          3.2,
          3.1,
          3.4,
          4.1,
          4.2,
          3.1,
          3.2,
          3.5,
          3.1,
          3,
          3.4,
          3.5,
          2.3,
          3.2,
          3.5,
          3.8,
          3,
          3.8,
          3.2,
          3.7,
          3.3,
          3.2,
          3.2,
          3.1,
          2.3,
          2.8,
          2.8,
          3.3,
          2.4,
          2.9,
          2.7,
          2,
          3,
          2.2,
          2.9,
          2.9,
          3.1,
          3,
          2.7,
          2.2,
          2.5,
          3.2,
          2.8,
          2.5,
          2.8,
          2.9,
          3,
          2.8,
          3,
          2.9,
          2.6,
          2.4,
          2.4,
          2.7,
          2.7,
          3,
          3.4,
          3.1,
          2.3,
          3,
          2.5,
          2.6,
          3,
          2.6,
          2.3,
          2.7,
          3,
          2.9,
          2.9,
          2.5,
          2.8,
          3.3,
          2.7,
          3,
          2.9,
          3,
          3,
          2.5,
          2.9,
          2.5,
          3.6,
          3.2,
          2.7,
          3,
          2.5,
          2.8,
          3.2,
          3,
          3.8,
          2.6,
          2.2,
          3.2,
          2.8,
          2.8,
          2.7,
          3.3,
          3.2,
          2.8,
          3,
          2.8,
          3,
          2.8,
          3.8,
          2.8,
          2.8,
          2.6,
          3,
          3.4,
          3.1,
          3,
          3.1,
          3.1,
          3.1,
          2.7,
          3.2,
          3.3,
          3,
          2.5,
          3,
          3.4,
          3,
          1.4,
          1.4,
          1.3,
          1.5,
          1.4,
          1.7,
          1.4,
          1.5,
          1.4,
          1.5,
          1.5,
          1.6,
          1.4,
          1.1,
          1.2,
          1.5,
          1.3,
          1.4,
          1.7,
          1.5,
          1.7,
          1.5,
          1,
          1.7,
          1.9,
          1.6,
          1.6,
          1.5,
          1.4,
          1.6,
          1.6,
          1.5,
          1.5,
          1.4,
          1.5,
          1.2,
          1.3,
          1.5,
          1.3,
          1.5,
          1.3,
          1.3,
          1.3,
          1.6,
          1.9,
          1.4,
          1.6,
          1.4,
          1.5,
          1.4,
          4.7,
          4.5,
          4.9,
          4,
          4.6,
          4.5,
          4.7,
          3.3,
          4.6,
          3.9,
          3.5,
          4.2,
          4,
          4.7,
          3.6,
          4.4,
          4.5,
          4.1,
          4.5,
          3.9,
          4.8,
          4,
          4.9,
          4.7,
          4.3,
          4.4,
          4.8,
          5,
          4.5,
          3.5,
          3.8,
          3.7,
          3.9,
          5.1,
          4.5,
          4.5,
          4.7,
          4.4,
          4.1,
          4,
          4.4,
          4.6,
          4,
          3.3,
          4.2,
          4.2,
          4.2,
          4.3,
          3,
          4.1,
          6,
          5.1,
          5.9,
          5.6,
          5.8,
          6.6,
          4.5,
          6.3,
          5.8,
          6.1,
          5.1,
          5.3,
          5.5,
          5,
          5.1,
          5.3,
          5.5,
          6.7,
          6.9,
          5,
          5.7,
          4.9,
          6.7,
          4.9,
          5.7,
          6,
          4.8,
          4.9,
          5.6,
          5.8,
          6.1,
          6.4,
          5.6,
          5.1,
          5.6,
          6.1,
          5.6,
          5.5,
          4.8,
          5.4,
          5.6,
          5.1,
          5.1,
          5.9,
          5.7,
          5.2,
          5,
          5.2,
          5.4,
          5.1,
          0.2,
          0.2,
          0.2,
          0.2,
          0.2,
          0.4,
          0.3,
          0.2,
          0.2,
          0.1,
          0.2,
          0.2,
          0.1,
          0.1,
          0.2,
          0.4,
          0.4,
          0.3,
          0.3,
          0.3,
          0.2,
          0.4,
          0.2,
          0.5,
          0.2,
          0.2,
          0.4,
          0.2,
          0.2,
          0.2,
          0.2,
          0.4,
          0.1,
          0.2,
          0.1,
          0.2,
          0.2,
          0.1,
          0.2,
          0.2,
          0.3,
          0.3,
          0.2,
          0.6,
          0.4,
          0.3,
          0.2,
          0.2,
          0.2,
          0.2,
          1.4,
          1.5,
          1.5,
          1.3,
          1.5,
          1.3,
          1.6,
          1,
          1.3,
          1.4,
          1,
          1.5,
          1,
          1.4,
          1.3,
          1.4,
          1.5,
          1,
          1.5,
          1.1,
          1.8,
          1.3,
          1.5,
          1.2,
          1.3,
          1.4,
          1.4,
          1.7,
          1.5,
          1,
          1.1,
          1,
          1.2,
          1.6,
          1.5,
          1.6,
          1.5,
          1.3,
          1.3,
          1.3,
          1.2,
          1.4,
          1.2,
          1,
          1.3,
          1.2,
          1.3,
          1.3,
          1.1,
          1.3,
          2.5,
          1.9,
          2.1,
          1.8,
          2.2,
          2.1,
          1.7,
          1.8,
          1.8,
          2.5,
          2,
          1.9,
          2.1,
          2,
          2.4,
          2.3,
          1.8,
          2.2,
          2.3,
          1.5,
          2.3,
          2,
          2,
          1.8,
          2.1,
          1.8,
          1.8,
          1.8,
          2.1,
          1.6,
          1.9,
          2,
          2.2,
          1.5,
          1.4,
          2.3,
          2.4,
          1.8,
          1.8,
          2.1,
          2.4,
          2.3,
          1.9,
          2.3,
          2.5,
          2.3,
          1.9,
          2,
          2.3,
          1.8
         ],
         "y0": " ",
         "yaxis": "y"
        }
       ],
       "layout": {
        "boxmode": "group",
        "legend": {
         "tracegroupgap": 0
        },
        "margin": {
         "t": 60
        },
        "template": {
         "data": {
          "bar": [
           {
            "error_x": {
             "color": "#2a3f5f"
            },
            "error_y": {
             "color": "#2a3f5f"
            },
            "marker": {
             "line": {
              "color": "#E5ECF6",
              "width": 0.5
             }
            },
            "type": "bar"
           }
          ],
          "barpolar": [
           {
            "marker": {
             "line": {
              "color": "#E5ECF6",
              "width": 0.5
             }
            },
            "type": "barpolar"
           }
          ],
          "carpet": [
           {
            "aaxis": {
             "endlinecolor": "#2a3f5f",
             "gridcolor": "white",
             "linecolor": "white",
             "minorgridcolor": "white",
             "startlinecolor": "#2a3f5f"
            },
            "baxis": {
             "endlinecolor": "#2a3f5f",
             "gridcolor": "white",
             "linecolor": "white",
             "minorgridcolor": "white",
             "startlinecolor": "#2a3f5f"
            },
            "type": "carpet"
           }
          ],
          "choropleth": [
           {
            "colorbar": {
             "outlinewidth": 0,
             "ticks": ""
            },
            "type": "choropleth"
           }
          ],
          "contour": [
           {
            "colorbar": {
             "outlinewidth": 0,
             "ticks": ""
            },
            "colorscale": [
             [
              0,
              "#0d0887"
             ],
             [
              0.1111111111111111,
              "#46039f"
             ],
             [
              0.2222222222222222,
              "#7201a8"
             ],
             [
              0.3333333333333333,
              "#9c179e"
             ],
             [
              0.4444444444444444,
              "#bd3786"
             ],
             [
              0.5555555555555556,
              "#d8576b"
             ],
             [
              0.6666666666666666,
              "#ed7953"
             ],
             [
              0.7777777777777778,
              "#fb9f3a"
             ],
             [
              0.8888888888888888,
              "#fdca26"
             ],
             [
              1,
              "#f0f921"
             ]
            ],
            "type": "contour"
           }
          ],
          "contourcarpet": [
           {
            "colorbar": {
             "outlinewidth": 0,
             "ticks": ""
            },
            "type": "contourcarpet"
           }
          ],
          "heatmap": [
           {
            "colorbar": {
             "outlinewidth": 0,
             "ticks": ""
            },
            "colorscale": [
             [
              0,
              "#0d0887"
             ],
             [
              0.1111111111111111,
              "#46039f"
             ],
             [
              0.2222222222222222,
              "#7201a8"
             ],
             [
              0.3333333333333333,
              "#9c179e"
             ],
             [
              0.4444444444444444,
              "#bd3786"
             ],
             [
              0.5555555555555556,
              "#d8576b"
             ],
             [
              0.6666666666666666,
              "#ed7953"
             ],
             [
              0.7777777777777778,
              "#fb9f3a"
             ],
             [
              0.8888888888888888,
              "#fdca26"
             ],
             [
              1,
              "#f0f921"
             ]
            ],
            "type": "heatmap"
           }
          ],
          "heatmapgl": [
           {
            "colorbar": {
             "outlinewidth": 0,
             "ticks": ""
            },
            "colorscale": [
             [
              0,
              "#0d0887"
             ],
             [
              0.1111111111111111,
              "#46039f"
             ],
             [
              0.2222222222222222,
              "#7201a8"
             ],
             [
              0.3333333333333333,
              "#9c179e"
             ],
             [
              0.4444444444444444,
              "#bd3786"
             ],
             [
              0.5555555555555556,
              "#d8576b"
             ],
             [
              0.6666666666666666,
              "#ed7953"
             ],
             [
              0.7777777777777778,
              "#fb9f3a"
             ],
             [
              0.8888888888888888,
              "#fdca26"
             ],
             [
              1,
              "#f0f921"
             ]
            ],
            "type": "heatmapgl"
           }
          ],
          "histogram": [
           {
            "marker": {
             "colorbar": {
              "outlinewidth": 0,
              "ticks": ""
             }
            },
            "type": "histogram"
           }
          ],
          "histogram2d": [
           {
            "colorbar": {
             "outlinewidth": 0,
             "ticks": ""
            },
            "colorscale": [
             [
              0,
              "#0d0887"
             ],
             [
              0.1111111111111111,
              "#46039f"
             ],
             [
              0.2222222222222222,
              "#7201a8"
             ],
             [
              0.3333333333333333,
              "#9c179e"
             ],
             [
              0.4444444444444444,
              "#bd3786"
             ],
             [
              0.5555555555555556,
              "#d8576b"
             ],
             [
              0.6666666666666666,
              "#ed7953"
             ],
             [
              0.7777777777777778,
              "#fb9f3a"
             ],
             [
              0.8888888888888888,
              "#fdca26"
             ],
             [
              1,
              "#f0f921"
             ]
            ],
            "type": "histogram2d"
           }
          ],
          "histogram2dcontour": [
           {
            "colorbar": {
             "outlinewidth": 0,
             "ticks": ""
            },
            "colorscale": [
             [
              0,
              "#0d0887"
             ],
             [
              0.1111111111111111,
              "#46039f"
             ],
             [
              0.2222222222222222,
              "#7201a8"
             ],
             [
              0.3333333333333333,
              "#9c179e"
             ],
             [
              0.4444444444444444,
              "#bd3786"
             ],
             [
              0.5555555555555556,
              "#d8576b"
             ],
             [
              0.6666666666666666,
              "#ed7953"
             ],
             [
              0.7777777777777778,
              "#fb9f3a"
             ],
             [
              0.8888888888888888,
              "#fdca26"
             ],
             [
              1,
              "#f0f921"
             ]
            ],
            "type": "histogram2dcontour"
           }
          ],
          "mesh3d": [
           {
            "colorbar": {
             "outlinewidth": 0,
             "ticks": ""
            },
            "type": "mesh3d"
           }
          ],
          "parcoords": [
           {
            "line": {
             "colorbar": {
              "outlinewidth": 0,
              "ticks": ""
             }
            },
            "type": "parcoords"
           }
          ],
          "pie": [
           {
            "automargin": true,
            "type": "pie"
           }
          ],
          "scatter": [
           {
            "marker": {
             "colorbar": {
              "outlinewidth": 0,
              "ticks": ""
             }
            },
            "type": "scatter"
           }
          ],
          "scatter3d": [
           {
            "line": {
             "colorbar": {
              "outlinewidth": 0,
              "ticks": ""
             }
            },
            "marker": {
             "colorbar": {
              "outlinewidth": 0,
              "ticks": ""
             }
            },
            "type": "scatter3d"
           }
          ],
          "scattercarpet": [
           {
            "marker": {
             "colorbar": {
              "outlinewidth": 0,
              "ticks": ""
             }
            },
            "type": "scattercarpet"
           }
          ],
          "scattergeo": [
           {
            "marker": {
             "colorbar": {
              "outlinewidth": 0,
              "ticks": ""
             }
            },
            "type": "scattergeo"
           }
          ],
          "scattergl": [
           {
            "marker": {
             "colorbar": {
              "outlinewidth": 0,
              "ticks": ""
             }
            },
            "type": "scattergl"
           }
          ],
          "scattermapbox": [
           {
            "marker": {
             "colorbar": {
              "outlinewidth": 0,
              "ticks": ""
             }
            },
            "type": "scattermapbox"
           }
          ],
          "scatterpolar": [
           {
            "marker": {
             "colorbar": {
              "outlinewidth": 0,
              "ticks": ""
             }
            },
            "type": "scatterpolar"
           }
          ],
          "scatterpolargl": [
           {
            "marker": {
             "colorbar": {
              "outlinewidth": 0,
              "ticks": ""
             }
            },
            "type": "scatterpolargl"
           }
          ],
          "scatterternary": [
           {
            "marker": {
             "colorbar": {
              "outlinewidth": 0,
              "ticks": ""
             }
            },
            "type": "scatterternary"
           }
          ],
          "surface": [
           {
            "colorbar": {
             "outlinewidth": 0,
             "ticks": ""
            },
            "colorscale": [
             [
              0,
              "#0d0887"
             ],
             [
              0.1111111111111111,
              "#46039f"
             ],
             [
              0.2222222222222222,
              "#7201a8"
             ],
             [
              0.3333333333333333,
              "#9c179e"
             ],
             [
              0.4444444444444444,
              "#bd3786"
             ],
             [
              0.5555555555555556,
              "#d8576b"
             ],
             [
              0.6666666666666666,
              "#ed7953"
             ],
             [
              0.7777777777777778,
              "#fb9f3a"
             ],
             [
              0.8888888888888888,
              "#fdca26"
             ],
             [
              1,
              "#f0f921"
             ]
            ],
            "type": "surface"
           }
          ],
          "table": [
           {
            "cells": {
             "fill": {
              "color": "#EBF0F8"
             },
             "line": {
              "color": "white"
             }
            },
            "header": {
             "fill": {
              "color": "#C8D4E3"
             },
             "line": {
              "color": "white"
             }
            },
            "type": "table"
           }
          ]
         },
         "layout": {
          "annotationdefaults": {
           "arrowcolor": "#2a3f5f",
           "arrowhead": 0,
           "arrowwidth": 1
          },
          "autotypenumbers": "strict",
          "coloraxis": {
           "colorbar": {
            "outlinewidth": 0,
            "ticks": ""
           }
          },
          "colorscale": {
           "diverging": [
            [
             0,
             "#8e0152"
            ],
            [
             0.1,
             "#c51b7d"
            ],
            [
             0.2,
             "#de77ae"
            ],
            [
             0.3,
             "#f1b6da"
            ],
            [
             0.4,
             "#fde0ef"
            ],
            [
             0.5,
             "#f7f7f7"
            ],
            [
             0.6,
             "#e6f5d0"
            ],
            [
             0.7,
             "#b8e186"
            ],
            [
             0.8,
             "#7fbc41"
            ],
            [
             0.9,
             "#4d9221"
            ],
            [
             1,
             "#276419"
            ]
           ],
           "sequential": [
            [
             0,
             "#0d0887"
            ],
            [
             0.1111111111111111,
             "#46039f"
            ],
            [
             0.2222222222222222,
             "#7201a8"
            ],
            [
             0.3333333333333333,
             "#9c179e"
            ],
            [
             0.4444444444444444,
             "#bd3786"
            ],
            [
             0.5555555555555556,
             "#d8576b"
            ],
            [
             0.6666666666666666,
             "#ed7953"
            ],
            [
             0.7777777777777778,
             "#fb9f3a"
            ],
            [
             0.8888888888888888,
             "#fdca26"
            ],
            [
             1,
             "#f0f921"
            ]
           ],
           "sequentialminus": [
            [
             0,
             "#0d0887"
            ],
            [
             0.1111111111111111,
             "#46039f"
            ],
            [
             0.2222222222222222,
             "#7201a8"
            ],
            [
             0.3333333333333333,
             "#9c179e"
            ],
            [
             0.4444444444444444,
             "#bd3786"
            ],
            [
             0.5555555555555556,
             "#d8576b"
            ],
            [
             0.6666666666666666,
             "#ed7953"
            ],
            [
             0.7777777777777778,
             "#fb9f3a"
            ],
            [
             0.8888888888888888,
             "#fdca26"
            ],
            [
             1,
             "#f0f921"
            ]
           ]
          },
          "colorway": [
           "#636efa",
           "#EF553B",
           "#00cc96",
           "#ab63fa",
           "#FFA15A",
           "#19d3f3",
           "#FF6692",
           "#B6E880",
           "#FF97FF",
           "#FECB52"
          ],
          "font": {
           "color": "#2a3f5f"
          },
          "geo": {
           "bgcolor": "white",
           "lakecolor": "white",
           "landcolor": "#E5ECF6",
           "showlakes": true,
           "showland": true,
           "subunitcolor": "white"
          },
          "hoverlabel": {
           "align": "left"
          },
          "hovermode": "closest",
          "mapbox": {
           "style": "light"
          },
          "paper_bgcolor": "white",
          "plot_bgcolor": "#E5ECF6",
          "polar": {
           "angularaxis": {
            "gridcolor": "white",
            "linecolor": "white",
            "ticks": ""
           },
           "bgcolor": "#E5ECF6",
           "radialaxis": {
            "gridcolor": "white",
            "linecolor": "white",
            "ticks": ""
           }
          },
          "scene": {
           "xaxis": {
            "backgroundcolor": "#E5ECF6",
            "gridcolor": "white",
            "gridwidth": 2,
            "linecolor": "white",
            "showbackground": true,
            "ticks": "",
            "zerolinecolor": "white"
           },
           "yaxis": {
            "backgroundcolor": "#E5ECF6",
            "gridcolor": "white",
            "gridwidth": 2,
            "linecolor": "white",
            "showbackground": true,
            "ticks": "",
            "zerolinecolor": "white"
           },
           "zaxis": {
            "backgroundcolor": "#E5ECF6",
            "gridcolor": "white",
            "gridwidth": 2,
            "linecolor": "white",
            "showbackground": true,
            "ticks": "",
            "zerolinecolor": "white"
           }
          },
          "shapedefaults": {
           "line": {
            "color": "#2a3f5f"
           }
          },
          "ternary": {
           "aaxis": {
            "gridcolor": "white",
            "linecolor": "white",
            "ticks": ""
           },
           "baxis": {
            "gridcolor": "white",
            "linecolor": "white",
            "ticks": ""
           },
           "bgcolor": "#E5ECF6",
           "caxis": {
            "gridcolor": "white",
            "linecolor": "white",
            "ticks": ""
           }
          },
          "title": {
           "x": 0.05
          },
          "xaxis": {
           "automargin": true,
           "gridcolor": "white",
           "linecolor": "white",
           "ticks": "",
           "title": {
            "standoff": 15
           },
           "zerolinecolor": "white",
           "zerolinewidth": 2
          },
          "yaxis": {
           "automargin": true,
           "gridcolor": "white",
           "linecolor": "white",
           "ticks": "",
           "title": {
            "standoff": 15
           },
           "zerolinecolor": "white",
           "zerolinewidth": 2
          }
         }
        },
        "xaxis": {
         "anchor": "y",
         "domain": [
          0,
          1
         ],
         "title": {
          "text": "variable"
         }
        },
        "yaxis": {
         "anchor": "x",
         "domain": [
          0,
          1
         ],
         "title": {
          "text": "value"
         }
        }
       }
      },
      "text/html": [
       "<div>                            <div id=\"18e727a7-9b83-4fad-81c4-3f56fd8fc321\" class=\"plotly-graph-div\" style=\"height:525px; width:100%;\"></div>            <script type=\"text/javascript\">                require([\"plotly\"], function(Plotly) {                    window.PLOTLYENV=window.PLOTLYENV || {};                                    if (document.getElementById(\"18e727a7-9b83-4fad-81c4-3f56fd8fc321\")) {                    Plotly.newPlot(                        \"18e727a7-9b83-4fad-81c4-3f56fd8fc321\",                        [{\"alignmentgroup\": \"True\", \"hovertemplate\": \"variable=%{x}<br>value=%{y}<extra></extra>\", \"legendgroup\": \"\", \"marker\": {\"color\": \"#636efa\"}, \"name\": \"\", \"notched\": false, \"offsetgroup\": \"\", \"orientation\": \"v\", \"showlegend\": false, \"type\": \"box\", \"x\": [\"SepalLengthCm\", \"SepalLengthCm\", \"SepalLengthCm\", \"SepalLengthCm\", \"SepalLengthCm\", \"SepalLengthCm\", \"SepalLengthCm\", \"SepalLengthCm\", \"SepalLengthCm\", \"SepalLengthCm\", \"SepalLengthCm\", \"SepalLengthCm\", \"SepalLengthCm\", \"SepalLengthCm\", \"SepalLengthCm\", \"SepalLengthCm\", \"SepalLengthCm\", \"SepalLengthCm\", \"SepalLengthCm\", \"SepalLengthCm\", \"SepalLengthCm\", \"SepalLengthCm\", \"SepalLengthCm\", \"SepalLengthCm\", \"SepalLengthCm\", \"SepalLengthCm\", \"SepalLengthCm\", \"SepalLengthCm\", \"SepalLengthCm\", \"SepalLengthCm\", \"SepalLengthCm\", \"SepalLengthCm\", \"SepalLengthCm\", \"SepalLengthCm\", \"SepalLengthCm\", \"SepalLengthCm\", \"SepalLengthCm\", \"SepalLengthCm\", \"SepalLengthCm\", \"SepalLengthCm\", \"SepalLengthCm\", \"SepalLengthCm\", \"SepalLengthCm\", \"SepalLengthCm\", \"SepalLengthCm\", \"SepalLengthCm\", \"SepalLengthCm\", \"SepalLengthCm\", \"SepalLengthCm\", \"SepalLengthCm\", \"SepalLengthCm\", \"SepalLengthCm\", \"SepalLengthCm\", \"SepalLengthCm\", \"SepalLengthCm\", \"SepalLengthCm\", \"SepalLengthCm\", \"SepalLengthCm\", \"SepalLengthCm\", \"SepalLengthCm\", \"SepalLengthCm\", \"SepalLengthCm\", \"SepalLengthCm\", \"SepalLengthCm\", \"SepalLengthCm\", \"SepalLengthCm\", \"SepalLengthCm\", \"SepalLengthCm\", \"SepalLengthCm\", \"SepalLengthCm\", \"SepalLengthCm\", \"SepalLengthCm\", \"SepalLengthCm\", \"SepalLengthCm\", \"SepalLengthCm\", \"SepalLengthCm\", \"SepalLengthCm\", \"SepalLengthCm\", \"SepalLengthCm\", \"SepalLengthCm\", \"SepalLengthCm\", \"SepalLengthCm\", \"SepalLengthCm\", \"SepalLengthCm\", \"SepalLengthCm\", \"SepalLengthCm\", \"SepalLengthCm\", \"SepalLengthCm\", \"SepalLengthCm\", \"SepalLengthCm\", \"SepalLengthCm\", \"SepalLengthCm\", \"SepalLengthCm\", \"SepalLengthCm\", \"SepalLengthCm\", \"SepalLengthCm\", \"SepalLengthCm\", \"SepalLengthCm\", \"SepalLengthCm\", \"SepalLengthCm\", \"SepalLengthCm\", \"SepalLengthCm\", \"SepalLengthCm\", \"SepalLengthCm\", \"SepalLengthCm\", \"SepalLengthCm\", \"SepalLengthCm\", \"SepalLengthCm\", \"SepalLengthCm\", \"SepalLengthCm\", \"SepalLengthCm\", \"SepalLengthCm\", \"SepalLengthCm\", \"SepalLengthCm\", \"SepalLengthCm\", \"SepalLengthCm\", \"SepalLengthCm\", \"SepalLengthCm\", \"SepalLengthCm\", \"SepalLengthCm\", \"SepalLengthCm\", \"SepalLengthCm\", \"SepalLengthCm\", \"SepalLengthCm\", \"SepalLengthCm\", \"SepalLengthCm\", \"SepalLengthCm\", \"SepalLengthCm\", \"SepalLengthCm\", \"SepalLengthCm\", \"SepalLengthCm\", \"SepalLengthCm\", \"SepalLengthCm\", \"SepalLengthCm\", \"SepalLengthCm\", \"SepalLengthCm\", \"SepalLengthCm\", \"SepalLengthCm\", \"SepalLengthCm\", \"SepalLengthCm\", \"SepalLengthCm\", \"SepalLengthCm\", \"SepalLengthCm\", \"SepalLengthCm\", \"SepalLengthCm\", \"SepalLengthCm\", \"SepalLengthCm\", \"SepalLengthCm\", \"SepalLengthCm\", \"SepalLengthCm\", \"SepalWidthCm\", \"SepalWidthCm\", \"SepalWidthCm\", \"SepalWidthCm\", \"SepalWidthCm\", \"SepalWidthCm\", \"SepalWidthCm\", \"SepalWidthCm\", \"SepalWidthCm\", \"SepalWidthCm\", \"SepalWidthCm\", \"SepalWidthCm\", \"SepalWidthCm\", \"SepalWidthCm\", \"SepalWidthCm\", \"SepalWidthCm\", \"SepalWidthCm\", \"SepalWidthCm\", \"SepalWidthCm\", \"SepalWidthCm\", \"SepalWidthCm\", \"SepalWidthCm\", \"SepalWidthCm\", \"SepalWidthCm\", \"SepalWidthCm\", \"SepalWidthCm\", \"SepalWidthCm\", \"SepalWidthCm\", \"SepalWidthCm\", \"SepalWidthCm\", \"SepalWidthCm\", \"SepalWidthCm\", \"SepalWidthCm\", \"SepalWidthCm\", \"SepalWidthCm\", \"SepalWidthCm\", \"SepalWidthCm\", \"SepalWidthCm\", \"SepalWidthCm\", \"SepalWidthCm\", \"SepalWidthCm\", \"SepalWidthCm\", \"SepalWidthCm\", \"SepalWidthCm\", \"SepalWidthCm\", \"SepalWidthCm\", \"SepalWidthCm\", \"SepalWidthCm\", \"SepalWidthCm\", \"SepalWidthCm\", \"SepalWidthCm\", \"SepalWidthCm\", \"SepalWidthCm\", \"SepalWidthCm\", \"SepalWidthCm\", \"SepalWidthCm\", \"SepalWidthCm\", \"SepalWidthCm\", \"SepalWidthCm\", \"SepalWidthCm\", \"SepalWidthCm\", \"SepalWidthCm\", \"SepalWidthCm\", \"SepalWidthCm\", \"SepalWidthCm\", \"SepalWidthCm\", \"SepalWidthCm\", \"SepalWidthCm\", \"SepalWidthCm\", \"SepalWidthCm\", \"SepalWidthCm\", \"SepalWidthCm\", \"SepalWidthCm\", \"SepalWidthCm\", \"SepalWidthCm\", \"SepalWidthCm\", \"SepalWidthCm\", \"SepalWidthCm\", \"SepalWidthCm\", \"SepalWidthCm\", \"SepalWidthCm\", \"SepalWidthCm\", \"SepalWidthCm\", \"SepalWidthCm\", \"SepalWidthCm\", \"SepalWidthCm\", \"SepalWidthCm\", \"SepalWidthCm\", \"SepalWidthCm\", \"SepalWidthCm\", \"SepalWidthCm\", \"SepalWidthCm\", \"SepalWidthCm\", \"SepalWidthCm\", \"SepalWidthCm\", \"SepalWidthCm\", \"SepalWidthCm\", \"SepalWidthCm\", \"SepalWidthCm\", \"SepalWidthCm\", \"SepalWidthCm\", \"SepalWidthCm\", \"SepalWidthCm\", \"SepalWidthCm\", \"SepalWidthCm\", \"SepalWidthCm\", \"SepalWidthCm\", \"SepalWidthCm\", \"SepalWidthCm\", \"SepalWidthCm\", \"SepalWidthCm\", \"SepalWidthCm\", \"SepalWidthCm\", \"SepalWidthCm\", \"SepalWidthCm\", \"SepalWidthCm\", \"SepalWidthCm\", \"SepalWidthCm\", \"SepalWidthCm\", \"SepalWidthCm\", \"SepalWidthCm\", \"SepalWidthCm\", \"SepalWidthCm\", \"SepalWidthCm\", \"SepalWidthCm\", \"SepalWidthCm\", \"SepalWidthCm\", \"SepalWidthCm\", \"SepalWidthCm\", \"SepalWidthCm\", \"SepalWidthCm\", \"SepalWidthCm\", \"SepalWidthCm\", \"SepalWidthCm\", \"SepalWidthCm\", \"SepalWidthCm\", \"SepalWidthCm\", \"SepalWidthCm\", \"SepalWidthCm\", \"SepalWidthCm\", \"SepalWidthCm\", \"SepalWidthCm\", \"SepalWidthCm\", \"SepalWidthCm\", \"SepalWidthCm\", \"SepalWidthCm\", \"SepalWidthCm\", \"SepalWidthCm\", \"SepalWidthCm\", \"SepalWidthCm\", \"PetalLengthCm\", \"PetalLengthCm\", \"PetalLengthCm\", \"PetalLengthCm\", \"PetalLengthCm\", \"PetalLengthCm\", \"PetalLengthCm\", \"PetalLengthCm\", \"PetalLengthCm\", \"PetalLengthCm\", \"PetalLengthCm\", \"PetalLengthCm\", \"PetalLengthCm\", \"PetalLengthCm\", \"PetalLengthCm\", \"PetalLengthCm\", \"PetalLengthCm\", \"PetalLengthCm\", \"PetalLengthCm\", \"PetalLengthCm\", \"PetalLengthCm\", \"PetalLengthCm\", \"PetalLengthCm\", \"PetalLengthCm\", \"PetalLengthCm\", \"PetalLengthCm\", \"PetalLengthCm\", \"PetalLengthCm\", \"PetalLengthCm\", \"PetalLengthCm\", \"PetalLengthCm\", \"PetalLengthCm\", \"PetalLengthCm\", \"PetalLengthCm\", \"PetalLengthCm\", \"PetalLengthCm\", \"PetalLengthCm\", \"PetalLengthCm\", \"PetalLengthCm\", \"PetalLengthCm\", \"PetalLengthCm\", \"PetalLengthCm\", \"PetalLengthCm\", \"PetalLengthCm\", \"PetalLengthCm\", \"PetalLengthCm\", \"PetalLengthCm\", \"PetalLengthCm\", \"PetalLengthCm\", \"PetalLengthCm\", \"PetalLengthCm\", \"PetalLengthCm\", \"PetalLengthCm\", \"PetalLengthCm\", \"PetalLengthCm\", \"PetalLengthCm\", \"PetalLengthCm\", \"PetalLengthCm\", \"PetalLengthCm\", \"PetalLengthCm\", \"PetalLengthCm\", \"PetalLengthCm\", \"PetalLengthCm\", \"PetalLengthCm\", \"PetalLengthCm\", \"PetalLengthCm\", \"PetalLengthCm\", \"PetalLengthCm\", \"PetalLengthCm\", \"PetalLengthCm\", \"PetalLengthCm\", \"PetalLengthCm\", \"PetalLengthCm\", \"PetalLengthCm\", \"PetalLengthCm\", \"PetalLengthCm\", \"PetalLengthCm\", \"PetalLengthCm\", \"PetalLengthCm\", \"PetalLengthCm\", \"PetalLengthCm\", \"PetalLengthCm\", \"PetalLengthCm\", \"PetalLengthCm\", \"PetalLengthCm\", \"PetalLengthCm\", \"PetalLengthCm\", \"PetalLengthCm\", \"PetalLengthCm\", \"PetalLengthCm\", \"PetalLengthCm\", \"PetalLengthCm\", \"PetalLengthCm\", \"PetalLengthCm\", \"PetalLengthCm\", \"PetalLengthCm\", \"PetalLengthCm\", \"PetalLengthCm\", \"PetalLengthCm\", \"PetalLengthCm\", \"PetalLengthCm\", \"PetalLengthCm\", \"PetalLengthCm\", \"PetalLengthCm\", \"PetalLengthCm\", \"PetalLengthCm\", \"PetalLengthCm\", \"PetalLengthCm\", \"PetalLengthCm\", \"PetalLengthCm\", \"PetalLengthCm\", \"PetalLengthCm\", \"PetalLengthCm\", \"PetalLengthCm\", \"PetalLengthCm\", \"PetalLengthCm\", \"PetalLengthCm\", \"PetalLengthCm\", \"PetalLengthCm\", \"PetalLengthCm\", \"PetalLengthCm\", \"PetalLengthCm\", \"PetalLengthCm\", \"PetalLengthCm\", \"PetalLengthCm\", \"PetalLengthCm\", \"PetalLengthCm\", \"PetalLengthCm\", \"PetalLengthCm\", \"PetalLengthCm\", \"PetalLengthCm\", \"PetalLengthCm\", \"PetalLengthCm\", \"PetalLengthCm\", \"PetalLengthCm\", \"PetalLengthCm\", \"PetalLengthCm\", \"PetalLengthCm\", \"PetalLengthCm\", \"PetalLengthCm\", \"PetalLengthCm\", \"PetalLengthCm\", \"PetalLengthCm\", \"PetalLengthCm\", \"PetalLengthCm\", \"PetalLengthCm\", \"PetalLengthCm\", \"PetalLengthCm\", \"PetalLengthCm\", \"PetalLengthCm\", \"PetalWidthCm\", \"PetalWidthCm\", \"PetalWidthCm\", \"PetalWidthCm\", \"PetalWidthCm\", \"PetalWidthCm\", \"PetalWidthCm\", \"PetalWidthCm\", \"PetalWidthCm\", \"PetalWidthCm\", \"PetalWidthCm\", \"PetalWidthCm\", \"PetalWidthCm\", \"PetalWidthCm\", \"PetalWidthCm\", \"PetalWidthCm\", \"PetalWidthCm\", \"PetalWidthCm\", \"PetalWidthCm\", \"PetalWidthCm\", \"PetalWidthCm\", \"PetalWidthCm\", \"PetalWidthCm\", \"PetalWidthCm\", \"PetalWidthCm\", \"PetalWidthCm\", \"PetalWidthCm\", \"PetalWidthCm\", \"PetalWidthCm\", \"PetalWidthCm\", \"PetalWidthCm\", \"PetalWidthCm\", \"PetalWidthCm\", \"PetalWidthCm\", \"PetalWidthCm\", \"PetalWidthCm\", \"PetalWidthCm\", \"PetalWidthCm\", \"PetalWidthCm\", \"PetalWidthCm\", \"PetalWidthCm\", \"PetalWidthCm\", \"PetalWidthCm\", \"PetalWidthCm\", \"PetalWidthCm\", \"PetalWidthCm\", \"PetalWidthCm\", \"PetalWidthCm\", \"PetalWidthCm\", \"PetalWidthCm\", \"PetalWidthCm\", \"PetalWidthCm\", \"PetalWidthCm\", \"PetalWidthCm\", \"PetalWidthCm\", \"PetalWidthCm\", \"PetalWidthCm\", \"PetalWidthCm\", \"PetalWidthCm\", \"PetalWidthCm\", \"PetalWidthCm\", \"PetalWidthCm\", \"PetalWidthCm\", \"PetalWidthCm\", \"PetalWidthCm\", \"PetalWidthCm\", \"PetalWidthCm\", \"PetalWidthCm\", \"PetalWidthCm\", \"PetalWidthCm\", \"PetalWidthCm\", \"PetalWidthCm\", \"PetalWidthCm\", \"PetalWidthCm\", \"PetalWidthCm\", \"PetalWidthCm\", \"PetalWidthCm\", \"PetalWidthCm\", \"PetalWidthCm\", \"PetalWidthCm\", \"PetalWidthCm\", \"PetalWidthCm\", \"PetalWidthCm\", \"PetalWidthCm\", \"PetalWidthCm\", \"PetalWidthCm\", \"PetalWidthCm\", \"PetalWidthCm\", \"PetalWidthCm\", \"PetalWidthCm\", \"PetalWidthCm\", \"PetalWidthCm\", \"PetalWidthCm\", \"PetalWidthCm\", \"PetalWidthCm\", \"PetalWidthCm\", \"PetalWidthCm\", \"PetalWidthCm\", \"PetalWidthCm\", \"PetalWidthCm\", \"PetalWidthCm\", \"PetalWidthCm\", \"PetalWidthCm\", \"PetalWidthCm\", \"PetalWidthCm\", \"PetalWidthCm\", \"PetalWidthCm\", \"PetalWidthCm\", \"PetalWidthCm\", \"PetalWidthCm\", \"PetalWidthCm\", \"PetalWidthCm\", \"PetalWidthCm\", \"PetalWidthCm\", \"PetalWidthCm\", \"PetalWidthCm\", \"PetalWidthCm\", \"PetalWidthCm\", \"PetalWidthCm\", \"PetalWidthCm\", \"PetalWidthCm\", \"PetalWidthCm\", \"PetalWidthCm\", \"PetalWidthCm\", \"PetalWidthCm\", \"PetalWidthCm\", \"PetalWidthCm\", \"PetalWidthCm\", \"PetalWidthCm\", \"PetalWidthCm\", \"PetalWidthCm\", \"PetalWidthCm\", \"PetalWidthCm\", \"PetalWidthCm\", \"PetalWidthCm\", \"PetalWidthCm\", \"PetalWidthCm\", \"PetalWidthCm\", \"PetalWidthCm\", \"PetalWidthCm\", \"PetalWidthCm\", \"PetalWidthCm\", \"PetalWidthCm\", \"PetalWidthCm\", \"PetalWidthCm\", \"PetalWidthCm\", \"PetalWidthCm\", \"PetalWidthCm\", \"PetalWidthCm\", \"PetalWidthCm\"], \"x0\": \" \", \"xaxis\": \"x\", \"y\": [5.1, 4.9, 4.7, 4.6, 5.0, 5.4, 4.6, 5.0, 4.4, 4.9, 5.4, 4.8, 4.8, 4.3, 5.8, 5.7, 5.4, 5.1, 5.7, 5.1, 5.4, 5.1, 4.6, 5.1, 4.8, 5.0, 5.0, 5.2, 5.2, 4.7, 4.8, 5.4, 5.2, 5.5, 4.9, 5.0, 5.5, 4.9, 4.4, 5.1, 5.0, 4.5, 4.4, 5.0, 5.1, 4.8, 5.1, 4.6, 5.3, 5.0, 7.0, 6.4, 6.9, 5.5, 6.5, 5.7, 6.3, 4.9, 6.6, 5.2, 5.0, 5.9, 6.0, 6.1, 5.6, 6.7, 5.6, 5.8, 6.2, 5.6, 5.9, 6.1, 6.3, 6.1, 6.4, 6.6, 6.8, 6.7, 6.0, 5.7, 5.5, 5.5, 5.8, 6.0, 5.4, 6.0, 6.7, 6.3, 5.6, 5.5, 5.5, 6.1, 5.8, 5.0, 5.6, 5.7, 5.7, 6.2, 5.1, 5.7, 6.3, 5.8, 7.1, 6.3, 6.5, 7.6, 4.9, 7.3, 6.7, 7.2, 6.5, 6.4, 6.8, 5.7, 5.8, 6.4, 6.5, 7.7, 7.7, 6.0, 6.9, 5.6, 7.7, 6.3, 6.7, 7.2, 6.2, 6.1, 6.4, 7.2, 7.4, 7.9, 6.4, 6.3, 6.1, 7.7, 6.3, 6.4, 6.0, 6.9, 6.7, 6.9, 5.8, 6.8, 6.7, 6.7, 6.3, 6.5, 6.2, 5.9, 3.5, 3.0, 3.2, 3.1, 3.6, 3.9, 3.4, 3.4, 2.9, 3.1, 3.7, 3.4, 3.0, 3.0, 4.0, 4.4, 3.9, 3.5, 3.8, 3.8, 3.4, 3.7, 3.6, 3.3, 3.4, 3.0, 3.4, 3.5, 3.4, 3.2, 3.1, 3.4, 4.1, 4.2, 3.1, 3.2, 3.5, 3.1, 3.0, 3.4, 3.5, 2.3, 3.2, 3.5, 3.8, 3.0, 3.8, 3.2, 3.7, 3.3, 3.2, 3.2, 3.1, 2.3, 2.8, 2.8, 3.3, 2.4, 2.9, 2.7, 2.0, 3.0, 2.2, 2.9, 2.9, 3.1, 3.0, 2.7, 2.2, 2.5, 3.2, 2.8, 2.5, 2.8, 2.9, 3.0, 2.8, 3.0, 2.9, 2.6, 2.4, 2.4, 2.7, 2.7, 3.0, 3.4, 3.1, 2.3, 3.0, 2.5, 2.6, 3.0, 2.6, 2.3, 2.7, 3.0, 2.9, 2.9, 2.5, 2.8, 3.3, 2.7, 3.0, 2.9, 3.0, 3.0, 2.5, 2.9, 2.5, 3.6, 3.2, 2.7, 3.0, 2.5, 2.8, 3.2, 3.0, 3.8, 2.6, 2.2, 3.2, 2.8, 2.8, 2.7, 3.3, 3.2, 2.8, 3.0, 2.8, 3.0, 2.8, 3.8, 2.8, 2.8, 2.6, 3.0, 3.4, 3.1, 3.0, 3.1, 3.1, 3.1, 2.7, 3.2, 3.3, 3.0, 2.5, 3.0, 3.4, 3.0, 1.4, 1.4, 1.3, 1.5, 1.4, 1.7, 1.4, 1.5, 1.4, 1.5, 1.5, 1.6, 1.4, 1.1, 1.2, 1.5, 1.3, 1.4, 1.7, 1.5, 1.7, 1.5, 1.0, 1.7, 1.9, 1.6, 1.6, 1.5, 1.4, 1.6, 1.6, 1.5, 1.5, 1.4, 1.5, 1.2, 1.3, 1.5, 1.3, 1.5, 1.3, 1.3, 1.3, 1.6, 1.9, 1.4, 1.6, 1.4, 1.5, 1.4, 4.7, 4.5, 4.9, 4.0, 4.6, 4.5, 4.7, 3.3, 4.6, 3.9, 3.5, 4.2, 4.0, 4.7, 3.6, 4.4, 4.5, 4.1, 4.5, 3.9, 4.8, 4.0, 4.9, 4.7, 4.3, 4.4, 4.8, 5.0, 4.5, 3.5, 3.8, 3.7, 3.9, 5.1, 4.5, 4.5, 4.7, 4.4, 4.1, 4.0, 4.4, 4.6, 4.0, 3.3, 4.2, 4.2, 4.2, 4.3, 3.0, 4.1, 6.0, 5.1, 5.9, 5.6, 5.8, 6.6, 4.5, 6.3, 5.8, 6.1, 5.1, 5.3, 5.5, 5.0, 5.1, 5.3, 5.5, 6.7, 6.9, 5.0, 5.7, 4.9, 6.7, 4.9, 5.7, 6.0, 4.8, 4.9, 5.6, 5.8, 6.1, 6.4, 5.6, 5.1, 5.6, 6.1, 5.6, 5.5, 4.8, 5.4, 5.6, 5.1, 5.1, 5.9, 5.7, 5.2, 5.0, 5.2, 5.4, 5.1, 0.2, 0.2, 0.2, 0.2, 0.2, 0.4, 0.3, 0.2, 0.2, 0.1, 0.2, 0.2, 0.1, 0.1, 0.2, 0.4, 0.4, 0.3, 0.3, 0.3, 0.2, 0.4, 0.2, 0.5, 0.2, 0.2, 0.4, 0.2, 0.2, 0.2, 0.2, 0.4, 0.1, 0.2, 0.1, 0.2, 0.2, 0.1, 0.2, 0.2, 0.3, 0.3, 0.2, 0.6, 0.4, 0.3, 0.2, 0.2, 0.2, 0.2, 1.4, 1.5, 1.5, 1.3, 1.5, 1.3, 1.6, 1.0, 1.3, 1.4, 1.0, 1.5, 1.0, 1.4, 1.3, 1.4, 1.5, 1.0, 1.5, 1.1, 1.8, 1.3, 1.5, 1.2, 1.3, 1.4, 1.4, 1.7, 1.5, 1.0, 1.1, 1.0, 1.2, 1.6, 1.5, 1.6, 1.5, 1.3, 1.3, 1.3, 1.2, 1.4, 1.2, 1.0, 1.3, 1.2, 1.3, 1.3, 1.1, 1.3, 2.5, 1.9, 2.1, 1.8, 2.2, 2.1, 1.7, 1.8, 1.8, 2.5, 2.0, 1.9, 2.1, 2.0, 2.4, 2.3, 1.8, 2.2, 2.3, 1.5, 2.3, 2.0, 2.0, 1.8, 2.1, 1.8, 1.8, 1.8, 2.1, 1.6, 1.9, 2.0, 2.2, 1.5, 1.4, 2.3, 2.4, 1.8, 1.8, 2.1, 2.4, 2.3, 1.9, 2.3, 2.5, 2.3, 1.9, 2.0, 2.3, 1.8], \"y0\": \" \", \"yaxis\": \"y\"}],                        {\"boxmode\": \"group\", \"legend\": {\"tracegroupgap\": 0}, \"margin\": {\"t\": 60}, \"template\": {\"data\": {\"bar\": [{\"error_x\": {\"color\": \"#2a3f5f\"}, \"error_y\": {\"color\": \"#2a3f5f\"}, \"marker\": {\"line\": {\"color\": \"#E5ECF6\", \"width\": 0.5}}, \"type\": \"bar\"}], \"barpolar\": [{\"marker\": {\"line\": {\"color\": \"#E5ECF6\", \"width\": 0.5}}, \"type\": \"barpolar\"}], \"carpet\": [{\"aaxis\": {\"endlinecolor\": \"#2a3f5f\", \"gridcolor\": \"white\", \"linecolor\": \"white\", \"minorgridcolor\": \"white\", \"startlinecolor\": \"#2a3f5f\"}, \"baxis\": {\"endlinecolor\": \"#2a3f5f\", \"gridcolor\": \"white\", \"linecolor\": \"white\", \"minorgridcolor\": \"white\", \"startlinecolor\": \"#2a3f5f\"}, \"type\": \"carpet\"}], \"choropleth\": [{\"colorbar\": {\"outlinewidth\": 0, \"ticks\": \"\"}, \"type\": \"choropleth\"}], \"contour\": [{\"colorbar\": {\"outlinewidth\": 0, \"ticks\": \"\"}, \"colorscale\": [[0.0, \"#0d0887\"], [0.1111111111111111, \"#46039f\"], [0.2222222222222222, \"#7201a8\"], [0.3333333333333333, \"#9c179e\"], [0.4444444444444444, \"#bd3786\"], [0.5555555555555556, \"#d8576b\"], [0.6666666666666666, \"#ed7953\"], [0.7777777777777778, \"#fb9f3a\"], [0.8888888888888888, \"#fdca26\"], [1.0, \"#f0f921\"]], \"type\": \"contour\"}], \"contourcarpet\": [{\"colorbar\": {\"outlinewidth\": 0, \"ticks\": \"\"}, \"type\": \"contourcarpet\"}], \"heatmap\": [{\"colorbar\": {\"outlinewidth\": 0, \"ticks\": \"\"}, \"colorscale\": [[0.0, \"#0d0887\"], [0.1111111111111111, \"#46039f\"], [0.2222222222222222, \"#7201a8\"], [0.3333333333333333, \"#9c179e\"], [0.4444444444444444, \"#bd3786\"], [0.5555555555555556, \"#d8576b\"], [0.6666666666666666, \"#ed7953\"], [0.7777777777777778, \"#fb9f3a\"], [0.8888888888888888, \"#fdca26\"], [1.0, \"#f0f921\"]], \"type\": \"heatmap\"}], \"heatmapgl\": [{\"colorbar\": {\"outlinewidth\": 0, \"ticks\": \"\"}, \"colorscale\": [[0.0, \"#0d0887\"], [0.1111111111111111, \"#46039f\"], [0.2222222222222222, \"#7201a8\"], [0.3333333333333333, \"#9c179e\"], [0.4444444444444444, \"#bd3786\"], [0.5555555555555556, \"#d8576b\"], [0.6666666666666666, \"#ed7953\"], [0.7777777777777778, \"#fb9f3a\"], [0.8888888888888888, \"#fdca26\"], [1.0, \"#f0f921\"]], \"type\": \"heatmapgl\"}], \"histogram\": [{\"marker\": {\"colorbar\": {\"outlinewidth\": 0, \"ticks\": \"\"}}, \"type\": \"histogram\"}], \"histogram2d\": [{\"colorbar\": {\"outlinewidth\": 0, \"ticks\": \"\"}, \"colorscale\": [[0.0, \"#0d0887\"], [0.1111111111111111, \"#46039f\"], [0.2222222222222222, \"#7201a8\"], [0.3333333333333333, \"#9c179e\"], [0.4444444444444444, \"#bd3786\"], [0.5555555555555556, \"#d8576b\"], [0.6666666666666666, \"#ed7953\"], [0.7777777777777778, \"#fb9f3a\"], [0.8888888888888888, \"#fdca26\"], [1.0, \"#f0f921\"]], \"type\": \"histogram2d\"}], \"histogram2dcontour\": [{\"colorbar\": {\"outlinewidth\": 0, \"ticks\": \"\"}, \"colorscale\": [[0.0, \"#0d0887\"], [0.1111111111111111, \"#46039f\"], [0.2222222222222222, \"#7201a8\"], [0.3333333333333333, \"#9c179e\"], [0.4444444444444444, \"#bd3786\"], [0.5555555555555556, \"#d8576b\"], [0.6666666666666666, \"#ed7953\"], [0.7777777777777778, \"#fb9f3a\"], [0.8888888888888888, \"#fdca26\"], [1.0, \"#f0f921\"]], \"type\": \"histogram2dcontour\"}], \"mesh3d\": [{\"colorbar\": {\"outlinewidth\": 0, \"ticks\": \"\"}, \"type\": \"mesh3d\"}], \"parcoords\": [{\"line\": {\"colorbar\": {\"outlinewidth\": 0, \"ticks\": \"\"}}, \"type\": \"parcoords\"}], \"pie\": [{\"automargin\": true, \"type\": \"pie\"}], \"scatter\": [{\"marker\": {\"colorbar\": {\"outlinewidth\": 0, \"ticks\": \"\"}}, \"type\": \"scatter\"}], \"scatter3d\": [{\"line\": {\"colorbar\": {\"outlinewidth\": 0, \"ticks\": \"\"}}, \"marker\": {\"colorbar\": {\"outlinewidth\": 0, \"ticks\": \"\"}}, \"type\": \"scatter3d\"}], \"scattercarpet\": [{\"marker\": {\"colorbar\": {\"outlinewidth\": 0, \"ticks\": \"\"}}, \"type\": \"scattercarpet\"}], \"scattergeo\": [{\"marker\": {\"colorbar\": {\"outlinewidth\": 0, \"ticks\": \"\"}}, \"type\": \"scattergeo\"}], \"scattergl\": [{\"marker\": {\"colorbar\": {\"outlinewidth\": 0, \"ticks\": \"\"}}, \"type\": \"scattergl\"}], \"scattermapbox\": [{\"marker\": {\"colorbar\": {\"outlinewidth\": 0, \"ticks\": \"\"}}, \"type\": \"scattermapbox\"}], \"scatterpolar\": [{\"marker\": {\"colorbar\": {\"outlinewidth\": 0, \"ticks\": \"\"}}, \"type\": \"scatterpolar\"}], \"scatterpolargl\": [{\"marker\": {\"colorbar\": {\"outlinewidth\": 0, \"ticks\": \"\"}}, \"type\": \"scatterpolargl\"}], \"scatterternary\": [{\"marker\": {\"colorbar\": {\"outlinewidth\": 0, \"ticks\": \"\"}}, \"type\": \"scatterternary\"}], \"surface\": [{\"colorbar\": {\"outlinewidth\": 0, \"ticks\": \"\"}, \"colorscale\": [[0.0, \"#0d0887\"], [0.1111111111111111, \"#46039f\"], [0.2222222222222222, \"#7201a8\"], [0.3333333333333333, \"#9c179e\"], [0.4444444444444444, \"#bd3786\"], [0.5555555555555556, \"#d8576b\"], [0.6666666666666666, \"#ed7953\"], [0.7777777777777778, \"#fb9f3a\"], [0.8888888888888888, \"#fdca26\"], [1.0, \"#f0f921\"]], \"type\": \"surface\"}], \"table\": [{\"cells\": {\"fill\": {\"color\": \"#EBF0F8\"}, \"line\": {\"color\": \"white\"}}, \"header\": {\"fill\": {\"color\": \"#C8D4E3\"}, \"line\": {\"color\": \"white\"}}, \"type\": \"table\"}]}, \"layout\": {\"annotationdefaults\": {\"arrowcolor\": \"#2a3f5f\", \"arrowhead\": 0, \"arrowwidth\": 1}, \"autotypenumbers\": \"strict\", \"coloraxis\": {\"colorbar\": {\"outlinewidth\": 0, \"ticks\": \"\"}}, \"colorscale\": {\"diverging\": [[0, \"#8e0152\"], [0.1, \"#c51b7d\"], [0.2, \"#de77ae\"], [0.3, \"#f1b6da\"], [0.4, \"#fde0ef\"], [0.5, \"#f7f7f7\"], [0.6, \"#e6f5d0\"], [0.7, \"#b8e186\"], [0.8, \"#7fbc41\"], [0.9, \"#4d9221\"], [1, \"#276419\"]], \"sequential\": [[0.0, \"#0d0887\"], [0.1111111111111111, \"#46039f\"], [0.2222222222222222, \"#7201a8\"], [0.3333333333333333, \"#9c179e\"], [0.4444444444444444, \"#bd3786\"], [0.5555555555555556, \"#d8576b\"], [0.6666666666666666, \"#ed7953\"], [0.7777777777777778, \"#fb9f3a\"], [0.8888888888888888, \"#fdca26\"], [1.0, \"#f0f921\"]], \"sequentialminus\": [[0.0, \"#0d0887\"], [0.1111111111111111, \"#46039f\"], [0.2222222222222222, \"#7201a8\"], [0.3333333333333333, \"#9c179e\"], [0.4444444444444444, \"#bd3786\"], [0.5555555555555556, \"#d8576b\"], [0.6666666666666666, \"#ed7953\"], [0.7777777777777778, \"#fb9f3a\"], [0.8888888888888888, \"#fdca26\"], [1.0, \"#f0f921\"]]}, \"colorway\": [\"#636efa\", \"#EF553B\", \"#00cc96\", \"#ab63fa\", \"#FFA15A\", \"#19d3f3\", \"#FF6692\", \"#B6E880\", \"#FF97FF\", \"#FECB52\"], \"font\": {\"color\": \"#2a3f5f\"}, \"geo\": {\"bgcolor\": \"white\", \"lakecolor\": \"white\", \"landcolor\": \"#E5ECF6\", \"showlakes\": true, \"showland\": true, \"subunitcolor\": \"white\"}, \"hoverlabel\": {\"align\": \"left\"}, \"hovermode\": \"closest\", \"mapbox\": {\"style\": \"light\"}, \"paper_bgcolor\": \"white\", \"plot_bgcolor\": \"#E5ECF6\", \"polar\": {\"angularaxis\": {\"gridcolor\": \"white\", \"linecolor\": \"white\", \"ticks\": \"\"}, \"bgcolor\": \"#E5ECF6\", \"radialaxis\": {\"gridcolor\": \"white\", \"linecolor\": \"white\", \"ticks\": \"\"}}, \"scene\": {\"xaxis\": {\"backgroundcolor\": \"#E5ECF6\", \"gridcolor\": \"white\", \"gridwidth\": 2, \"linecolor\": \"white\", \"showbackground\": true, \"ticks\": \"\", \"zerolinecolor\": \"white\"}, \"yaxis\": {\"backgroundcolor\": \"#E5ECF6\", \"gridcolor\": \"white\", \"gridwidth\": 2, \"linecolor\": \"white\", \"showbackground\": true, \"ticks\": \"\", \"zerolinecolor\": \"white\"}, \"zaxis\": {\"backgroundcolor\": \"#E5ECF6\", \"gridcolor\": \"white\", \"gridwidth\": 2, \"linecolor\": \"white\", \"showbackground\": true, \"ticks\": \"\", \"zerolinecolor\": \"white\"}}, \"shapedefaults\": {\"line\": {\"color\": \"#2a3f5f\"}}, \"ternary\": {\"aaxis\": {\"gridcolor\": \"white\", \"linecolor\": \"white\", \"ticks\": \"\"}, \"baxis\": {\"gridcolor\": \"white\", \"linecolor\": \"white\", \"ticks\": \"\"}, \"bgcolor\": \"#E5ECF6\", \"caxis\": {\"gridcolor\": \"white\", \"linecolor\": \"white\", \"ticks\": \"\"}}, \"title\": {\"x\": 0.05}, \"xaxis\": {\"automargin\": true, \"gridcolor\": \"white\", \"linecolor\": \"white\", \"ticks\": \"\", \"title\": {\"standoff\": 15}, \"zerolinecolor\": \"white\", \"zerolinewidth\": 2}, \"yaxis\": {\"automargin\": true, \"gridcolor\": \"white\", \"linecolor\": \"white\", \"ticks\": \"\", \"title\": {\"standoff\": 15}, \"zerolinecolor\": \"white\", \"zerolinewidth\": 2}}}, \"xaxis\": {\"anchor\": \"y\", \"domain\": [0.0, 1.0], \"title\": {\"text\": \"variable\"}}, \"yaxis\": {\"anchor\": \"x\", \"domain\": [0.0, 1.0], \"title\": {\"text\": \"value\"}}},                        {\"responsive\": true}                    ).then(function(){\n",
       "                            \n",
       "var gd = document.getElementById('18e727a7-9b83-4fad-81c4-3f56fd8fc321');\n",
       "var x = new MutationObserver(function (mutations, observer) {{\n",
       "        var display = window.getComputedStyle(gd).display;\n",
       "        if (!display || display === 'none') {{\n",
       "            console.log([gd, 'removed!']);\n",
       "            Plotly.purge(gd);\n",
       "            observer.disconnect();\n",
       "        }}\n",
       "}});\n",
       "\n",
       "// Listen for the removal of the full notebook cells\n",
       "var notebookContainer = gd.closest('#notebook-container');\n",
       "if (notebookContainer) {{\n",
       "    x.observe(notebookContainer, {childList: true});\n",
       "}}\n",
       "\n",
       "// Listen for the clearing of the current output cell\n",
       "var outputEl = gd.closest('.output');\n",
       "if (outputEl) {{\n",
       "    x.observe(outputEl, {childList: true});\n",
       "}}\n",
       "\n",
       "                        })                };                });            </script>        </div>"
      ]
     },
     "metadata": {},
     "output_type": "display_data"
    }
   ],
   "source": [
    "fig = px.box(data[f],y=f)\n",
    "fig.show()"
   ]
  },
  {
   "cell_type": "markdown",
   "metadata": {},
   "source": [
    "There are some outliers in SepalWidthCm"
   ]
  },
  {
   "cell_type": "code",
   "execution_count": 44,
   "metadata": {},
   "outputs": [],
   "source": [
    "#cHECK FOR SIMPLE CORRELATION TO CHECK THE FEATURES RELATED WITH THE TARGET\n",
    "\n",
    "corr_result=data.corr()"
   ]
  },
  {
   "cell_type": "code",
   "execution_count": 45,
   "metadata": {},
   "outputs": [
    {
     "data": {
      "text/plain": [
       "<AxesSubplot:>"
      ]
     },
     "execution_count": 45,
     "metadata": {},
     "output_type": "execute_result"
    },
    {
     "data": {
      "image/png": "[encoded data removed]",
      "text/plain": [
       "<Figure size 432x288 with 2 Axes>"
      ]
     },
     "metadata": {
      "needs_background": "light"
     },
     "output_type": "display_data"
    }
   ],
   "source": [
    "## Now for better understanding , lets visualize correlation results using heatmap\n",
    "sns.heatmap(corr_result)"
   ]
  },
  {
   "cell_type": "markdown",
   "metadata": {},
   "source": [
    "##### Since SepalWidthCm has outliers & has less correlation with the target variable, we can remove it"
   ]
  },
  {
   "cell_type": "code",
   "execution_count": 46,
   "metadata": {},
   "outputs": [],
   "source": [
    "data=data.drop(['SepalWidthCm'],axis=1)"
   ]
  },
  {
   "cell_type": "code",
   "execution_count": 47,
   "metadata": {},
   "outputs": [],
   "source": [
    "## SEPARATING THE DATA INTO INDEPENDANT VARIABLES\n",
    "\n",
    "X=data.drop(['Species'],axis=1)\n",
    "Y=data['Species']"
   ]
  },
  {
   "cell_type": "code",
   "execution_count": 48,
   "metadata": {},
   "outputs": [
    {
     "data": {
      "text/html": [
       "<div>\n",
       "<style scoped>\n",
       "    .dataframe tbody tr th:only-of-type {\n",
       "        vertical-align: middle;\n",
       "    }\n",
       "\n",
       "    .dataframe tbody tr th {\n",
       "        vertical-align: top;\n",
       "    }\n",
       "\n",
       "    .dataframe thead th {\n",
       "        text-align: right;\n",
       "    }\n",
       "</style>\n",
       "<table border=\"1\" class=\"dataframe\">\n",
       "  <thead>\n",
       "    <tr style=\"text-align: right;\">\n",
       "      <th></th>\n",
       "      <th>SepalLengthCm</th>\n",
       "      <th>PetalLengthCm</th>\n",
       "      <th>PetalWidthCm</th>\n",
       "    </tr>\n",
       "  </thead>\n",
       "  <tbody>\n",
       "    <tr>\n",
       "      <th>0</th>\n",
       "      <td>5.1</td>\n",
       "      <td>1.4</td>\n",
       "      <td>0.2</td>\n",
       "    </tr>\n",
       "    <tr>\n",
       "      <th>1</th>\n",
       "      <td>4.9</td>\n",
       "      <td>1.4</td>\n",
       "      <td>0.2</td>\n",
       "    </tr>\n",
       "    <tr>\n",
       "      <th>2</th>\n",
       "      <td>4.7</td>\n",
       "      <td>1.3</td>\n",
       "      <td>0.2</td>\n",
       "    </tr>\n",
       "    <tr>\n",
       "      <th>3</th>\n",
       "      <td>4.6</td>\n",
       "      <td>1.5</td>\n",
       "      <td>0.2</td>\n",
       "    </tr>\n",
       "    <tr>\n",
       "      <th>4</th>\n",
       "      <td>5.0</td>\n",
       "      <td>1.4</td>\n",
       "      <td>0.2</td>\n",
       "    </tr>\n",
       "  </tbody>\n",
       "</table>\n",
       "</div>"
      ],
      "text/plain": [
       "   SepalLengthCm  PetalLengthCm  PetalWidthCm\n",
       "0            5.1            1.4           0.2\n",
       "1            4.9            1.4           0.2\n",
       "2            4.7            1.3           0.2\n",
       "3            4.6            1.5           0.2\n",
       "4            5.0            1.4           0.2"
      ]
     },
     "execution_count": 48,
     "metadata": {},
     "output_type": "execute_result"
    }
   ],
   "source": [
    "X.head()"
   ]
  },
  {
   "cell_type": "code",
   "execution_count": 49,
   "metadata": {},
   "outputs": [
    {
     "data": {
      "text/plain": [
       "0    0\n",
       "1    0\n",
       "2    0\n",
       "3    0\n",
       "4    0\n",
       "Name: Species, dtype: int64"
      ]
     },
     "execution_count": 49,
     "metadata": {},
     "output_type": "execute_result"
    }
   ],
   "source": [
    "Y.head()"
   ]
  },
  {
   "cell_type": "markdown",
   "metadata": {},
   "source": [
    "### DECISION TREE CLASSIFIER:"
   ]
  },
  {
   "cell_type": "code",
   "execution_count": 50,
   "metadata": {},
   "outputs": [
    {
     "name": "stdout",
     "output_type": "stream",
     "text": [
      "Average score(1): 0.667\n",
      "Average score(2): 0.933\n",
      "Average score(3): 0.960\n",
      "Average score(4): 0.953\n",
      "Average score(5): 0.953\n",
      "Average score(6): 0.953\n",
      "Average score(7): 0.953\n",
      "Average score(8): 0.953\n",
      "Average score(9): 0.953\n",
      "Average score(10): 0.953\n"
     ]
    }
   ],
   "source": [
    "### applying cross validation for testing data.\n",
    "from sklearn.model_selection import cross_val_score\n",
    "\n",
    "max_depth=[1,2,3,4,5,6,7,8,9,10]\n",
    "\n",
    "for val in max_depth:\n",
    "    d_model = DecisionTreeClassifier(criterion='entropy', random_state=0,max_depth=val)\n",
    "    d_model.fit(X,Y)\n",
    "    accuracy_cross_val=cross_val_score(d_model,X,Y,scoring='accuracy',cv=5)\n",
    "    print(f'Average score({val}): {\"{:.3f}\".format(accuracy_cross_val.mean())}')"
   ]
  },
  {
   "cell_type": "code",
   "execution_count": 51,
   "metadata": {},
   "outputs": [],
   "source": [
    "### So for the max_depth of \"2\" the model yields good accuracy than other max_depth values."
   ]
  },
  {
   "cell_type": "code",
   "execution_count": 52,
   "metadata": {},
   "outputs": [
    {
     "name": "stdout",
     "output_type": "stream",
     "text": [
      "Average score(2): 0.960\n"
     ]
    }
   ],
   "source": [
    "d_model=DecisionTreeClassifier(criterion='entropy',random_state=0,max_depth=3)\n",
    "accuracy_cross_val=cross_val_score(d_model,X,Y,scoring='accuracy',cv=5)\n",
    "print(f'Average score({2}): {\"{:.3f}\".format(accuracy_cross_val.mean())}')"
   ]
  },
  {
   "cell_type": "markdown",
   "metadata": {},
   "source": [
    "##### Visualizing the tree:"
   ]
  },
  {
   "cell_type": "code",
   "execution_count": 55,
   "metadata": {},
   "outputs": [
    {
     "data": {
      "text/plain": [
       "[Text(209.25, 475.65000000000003, 'X[1] <= 2.45\\nentropy = 1.585\\nsamples = 150\\nvalue = [50, 50, 50]'),\n",
       " Text(139.5, 339.75, 'entropy = 0.0\\nsamples = 50\\nvalue = [50, 0, 0]'),\n",
       " Text(279.0, 339.75, 'X[2] <= 1.75\\nentropy = 1.0\\nsamples = 100\\nvalue = [0, 50, 50]'),\n",
       " Text(139.5, 203.85000000000002, 'X[1] <= 4.95\\nentropy = 0.445\\nsamples = 54\\nvalue = [0, 49, 5]'),\n",
       " Text(69.75, 67.94999999999999, 'entropy = 0.146\\nsamples = 48\\nvalue = [0, 47, 1]'),\n",
       " Text(209.25, 67.94999999999999, 'entropy = 0.918\\nsamples = 6\\nvalue = [0, 2, 4]'),\n",
       " Text(418.5, 203.85000000000002, 'X[1] <= 4.85\\nentropy = 0.151\\nsamples = 46\\nvalue = [0, 1, 45]'),\n",
       " Text(348.75, 67.94999999999999, 'entropy = 0.918\\nsamples = 3\\nvalue = [0, 1, 2]'),\n",
       " Text(488.25, 67.94999999999999, 'entropy = 0.0\\nsamples = 43\\nvalue = [0, 0, 43]')]"
      ]
     },
     "execution_count": 55,
     "metadata": {},
     "output_type": "execute_result"
    },
    {
     "data": {
      "image/png": "[encoded data removed]",
      "text/plain": [
       "<Figure size 720x720 with 1 Axes>"
      ]
     },
     "metadata": {
      "needs_background": "light"
     },
     "output_type": "display_data"
    }
   ],
   "source": [
    "from sklearn import tree\n",
    "plt.figure(figsize=(10,10))\n",
    "tree.plot_tree(d_model.fit(X,Y))"
   ]
  },
  {
   "cell_type": "code",
   "execution_count": null,
   "metadata": {},
   "outputs": [],
   "source": []
  }
 ],
 "metadata": {
  "kernelspec": {
   "display_name": "Python 3",
   "language": "python",
   "name": "python3"
  },
  "language_info": {
   "codemirror_mode": {
    "name": "ipython",
    "version": 3
   },
   "file_extension": ".py",
   "mimetype": "text/x-python",
   "name": "python",
   "nbconvert_exporter": "python",
   "pygments_lexer": "ipython3",
   "version": "3.8.5"
  }
 },
 "nbformat": 4,
 "nbformat_minor": 4
}
